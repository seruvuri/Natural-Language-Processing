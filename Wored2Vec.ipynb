{
 "cells": [
  {
   "cell_type": "code",
   "execution_count": 20,
   "id": "771c359f",
   "metadata": {},
   "outputs": [],
   "source": [
    "import nltk\n",
    "import re\n",
    "from gensim.models import Word2Vec\n",
    "from nltk.corpus import stopwords\n",
    "from nltk.stem import WordNetLemmatizer"
   ]
  },
  {
   "cell_type": "code",
   "execution_count": 21,
   "id": "00f542f7",
   "metadata": {},
   "outputs": [],
   "source": [
    "paragraph=\"Natural Language Processing (NLP) tasks encompass a wide range of applications aimed at understanding and processing human language data. From sentiment analysis to machine translation, NLP tasks play a pivotal role in enabling machines to comprehend and generate human language. One key NLP task involves Named Entity Recognition (NER), where the goal is to identify and classify named entities such as people, organizations, locations, dates, and more within a given text. NER is crucial for information extraction, search engines, and various other applications. By accurately identifying named entities, NER systems help extract valuable information from unstructured text data, enabling further analysis and decision-making. Through advanced machine learning algorithms and linguistic techniques, NER systems can achieve high precision and recall, making them indispensable tools for extracting structured information from vast amounts of textual data.\""
   ]
  },
  {
   "cell_type": "code",
   "execution_count": 22,
   "id": "644598e8",
   "metadata": {},
   "outputs": [],
   "source": [
    "wordnet=WordNetLemmatizer()\n",
    "corpus=[]\n",
    "\n",
    "sentence=nltk.sent_tokenize(paragraph)\n",
    "\n",
    "for i in range(len(sentence)):\n",
    "    review=re.sub('[^a-zA-Z]',' ',sentence[i])\n",
    "    review=review.lower()\n",
    "    review=review.split()\n",
    "    review=[wordnet.lemmatize(word) for word in review if word not in stopwords.words('english')]\n",
    "    review=' '.join(review)\n",
    "    corpus.append(review)"
   ]
  },
  {
   "cell_type": "code",
   "execution_count": 23,
   "id": "7875b0e3",
   "metadata": {},
   "outputs": [
    {
     "data": {
      "text/plain": [
       "['natural language processing nlp task encompass wide range application aimed understanding processing human language data',\n",
       " 'sentiment analysis machine translation nlp task play pivotal role enabling machine comprehend generate human language',\n",
       " 'one key nlp task involves named entity recognition ner goal identify classify named entity people organization location date within given text',\n",
       " 'ner crucial information extraction search engine various application',\n",
       " 'accurately identifying named entity ner system help extract valuable information unstructured text data enabling analysis decision making',\n",
       " 'advanced machine learning algorithm linguistic technique ner system achieve high precision recall making indispensable tool extracting structured information vast amount textual data']"
      ]
     },
     "execution_count": 23,
     "metadata": {},
     "output_type": "execute_result"
    }
   ],
   "source": [
    "corpus"
   ]
  },
  {
   "cell_type": "code",
   "execution_count": 33,
   "id": "e131f23e",
   "metadata": {},
   "outputs": [],
   "source": [
    "#min_count says if the word is present less than 1 then do not consider that word\n",
    "# Train Word2Vec model\n",
    "model = Word2Vec(corpus, min_count=1, vector_size=100)"
   ]
  },
  {
   "cell_type": "code",
   "execution_count": 34,
   "id": "45833418",
   "metadata": {},
   "outputs": [
    {
     "name": "stdout",
     "output_type": "stream",
     "text": [
      "Vocabulary: ['ner', 'data', 'language', 'nlp', 'task', 'information', 'machine', 'entity', 'named', 'human', 'system', 'making', 'analysis', 'enabling', 'text', 'application', 'processing', 'generate', 'recognition', 'goal', 'involves', 'key', 'one', 'textual', 'translation', 'comprehend', 'role', 'pivotal', 'play', 'classify', 'sentiment', 'understanding', 'aimed', 'range', 'wide', 'encompass', 'identify', 'location', 'people', 'decision', 'vast', 'structured', 'extracting', 'tool', 'indispensable', 'recall', 'precision', 'high', 'achieve', 'technique', 'linguistic', 'algorithm', 'learning', 'advanced', 'unstructured', 'organization', 'valuable', 'extract', 'help', 'identifying', 'accurately', 'various', 'engine', 'search', 'extraction', 'crucial', 'given', 'within', 'date', 'amount', 'natural']\n"
     ]
    }
   ],
   "source": [
    "# Print vocabulary\n",
    "print(\"Vocabulary:\", model.wv.index_to_key)"
   ]
  },
  {
   "cell_type": "code",
   "execution_count": 35,
   "id": "31e15b64",
   "metadata": {},
   "outputs": [
    {
     "name": "stdout",
     "output_type": "stream",
     "text": [
      "Vector representation of 'nlp': [-8.2355151e-03  9.2978338e-03 -1.9957332e-04 -1.9653966e-03\n",
      "  4.6042944e-03 -4.0997970e-03  2.7476645e-03  6.9402982e-03\n",
      "  6.0647279e-03 -7.5113252e-03  9.3847588e-03  4.6674493e-03\n",
      "  3.9651403e-03 -6.2321611e-03  8.4552076e-03 -2.1526464e-03\n",
      "  8.8279434e-03 -5.3664022e-03 -8.1329467e-03  6.8238406e-03\n",
      "  1.6732425e-03 -2.1887177e-03  9.5216343e-03  9.4913086e-03\n",
      " -9.7724926e-03  2.5007348e-03  6.1534229e-03  3.8736451e-03\n",
      "  2.0154754e-03  4.2987103e-04  6.9201383e-04 -3.8225681e-03\n",
      " -7.1394327e-03 -2.0975021e-03  3.9236234e-03  8.8142520e-03\n",
      "  9.2565268e-03 -5.9713172e-03 -9.4056912e-03  9.7533856e-03\n",
      "  3.4162311e-03  5.1639555e-03  6.2743747e-03 -2.8054365e-03\n",
      "  7.3266625e-03  2.8337566e-03  2.8635475e-03 -2.3820915e-03\n",
      " -3.1220356e-03 -2.3655412e-03  4.2762361e-03  7.2884570e-05\n",
      " -9.5907124e-03 -9.6783927e-03 -6.1411401e-03 -1.2653318e-04\n",
      "  1.9998190e-03  9.4300117e-03  5.5796970e-03 -4.2910534e-03\n",
      "  2.7187349e-04  4.9597253e-03  7.7080247e-03 -1.1405500e-03\n",
      "  4.3132054e-03 -5.8078100e-03 -8.1499660e-04  8.1006642e-03\n",
      " -2.3661705e-03 -9.6596060e-03  5.7820179e-03 -3.9241980e-03\n",
      " -1.2160559e-03  9.9797091e-03 -2.2562062e-03 -4.7662165e-03\n",
      " -5.3276941e-03  6.9701094e-03 -5.7126600e-03  2.1116345e-03\n",
      " -5.2606682e-03  6.1133970e-03  4.3511703e-03  2.6113575e-03\n",
      " -1.4867764e-03 -2.7593265e-03  8.9933258e-03  5.2124760e-03\n",
      " -2.1525831e-03 -9.4624143e-03 -7.4216556e-03 -1.0617439e-03\n",
      " -7.8526261e-04 -2.5686468e-03  9.6802795e-03 -4.5255103e-04\n",
      "  5.8815707e-03 -7.4412213e-03 -2.5092233e-03 -5.5597848e-03]\n"
     ]
    }
   ],
   "source": [
    "# Get vector representation of a word\n",
    "word_vector = model.wv['nlp']\n",
    "print(\"Vector representation of 'nlp':\", word_vector)"
   ]
  },
  {
   "cell_type": "code",
   "execution_count": 36,
   "id": "ec52ed77",
   "metadata": {},
   "outputs": [
    {
     "name": "stdout",
     "output_type": "stream",
     "text": [
      "Words similar to 'nlp': [('text', 0.17861540615558624), ('identify', 0.16389790177345276), ('recall', 0.1499251425266266), ('valuable', 0.13510604202747345), ('information', 0.13150909543037415)]\n"
     ]
    }
   ],
   "source": [
    "# Find similar words\n",
    "similar_words = model.wv.most_similar('nlp', topn=5)\n",
    "print(\"Words similar to 'nlp':\", similar_words)"
   ]
  },
  {
   "cell_type": "code",
   "execution_count": null,
   "id": "ba53cfa3",
   "metadata": {},
   "outputs": [],
   "source": []
  }
 ],
 "metadata": {
  "kernelspec": {
   "display_name": "Python 3 (ipykernel)",
   "language": "python",
   "name": "python3"
  },
  "language_info": {
   "codemirror_mode": {
    "name": "ipython",
    "version": 3
   },
   "file_extension": ".py",
   "mimetype": "text/x-python",
   "name": "python",
   "nbconvert_exporter": "python",
   "pygments_lexer": "ipython3",
   "version": "3.11.5"
  }
 },
 "nbformat": 4,
 "nbformat_minor": 5
}
